{
 "cells": [
  {
   "cell_type": "markdown",
   "metadata": {},
   "source": [
    "# Generate index from aggregated data\n",
    "\n",
    "The workflow processing has now produced an aggregated data file (lpi.csv). Each row in this file represents a time series of observations of a species at a given site.\n",
    "\n",
    "We now use the Living Planet Index method to generate an index from this file.\n"
   ]
  },
  {
   "cell_type": "markdown",
   "metadata": {},
   "source": [
    "### Step 1: Load aggregated data file"
   ]
  },
  {
   "cell_type": "code",
   "execution_count": null,
   "metadata": {},
   "outputs": [],
   "source": [
    "library(rlpi)\n",
    "\n",
    "in_file <- \"../sample-data/export/lpi.csv\"\n",
    "lpi_data <- read.csv(in_file, na.strings = \"\", quote = \"\\\"\",sep = \",\")\n",
    "\n",
    "infile_name <- create_infile(lpi_data, name=\"infile\", start_col_name=\"X1950\", end_col_name=\"X2015\")"
   ]
  },
  {
   "cell_type": "markdown",
   "metadata": {},
   "source": [
    "### Step 2: Generate LPI index"
   ]
  },
  {
   "cell_type": "code",
   "execution_count": null,
   "metadata": {},
   "outputs": [],
   "source": [
    "lpi <- LPIMain(infile_name,\n",
    "\tREF_YEAR=2000,\n",
    "\tPLOT_MAX=2015,\n",
    "\tBOOT_STRAP_SIZE=1000,\n",
    "\tVERBOSE=TRUE,\n",
    "\tgoParallel=TRUE,\n",
    "\ttitle=\"TSX\",\n",
    "\tplot_lpi=0,\n",
    "\tsave_plots=0)"
   ]
  },
  {
   "cell_type": "markdown",
   "metadata": {},
   "source": [
    "### Step 3: Plot resulting index"
   ]
  },
  {
   "cell_type": "code",
   "execution_count": null,
   "metadata": {},
   "outputs": [],
   "source": [
    "ggplot_lpi(lpi, line_col=\"grey\")"
   ]
  },
  {
   "cell_type": "markdown",
   "metadata": {},
   "source": [
    "The index in tabular format:"
   ]
  },
  {
   "cell_type": "code",
   "execution_count": null,
   "metadata": {},
   "outputs": [],
   "source": [
    "lpi"
   ]
  }
 ],
 "metadata": {
  "kernelspec": {
   "display_name": "R",
   "language": "R",
   "name": "ir"
  },
  "language_info": {
   "codemirror_mode": "r",
   "file_extension": ".r",
   "mimetype": "text/x-r-source",
   "name": "R",
   "pygments_lexer": "r",
   "version": "3.4.4"
  }
 },
 "nbformat": 4,
 "nbformat_minor": 4
}
